{
  "nbformat": 4,
  "nbformat_minor": 0,
  "metadata": {
    "colab": {
      "provenance": [],
      "gpuType": "T4",
      "mount_file_id": "1ah3hEef0asupaWPAlY2QkoPeqePmecec",
      "authorship_tag": "ABX9TyOIDr+zmIGON1pQdLgMCtSe",
      "include_colab_link": true
    },
    "kernelspec": {
      "name": "python3",
      "display_name": "Python 3"
    },
    "language_info": {
      "name": "python"
    },
    "accelerator": "GPU"
  },
  "cells": [
    {
      "cell_type": "markdown",
      "metadata": {
        "id": "view-in-github",
        "colab_type": "text"
      },
      "source": [
        "<a href=\"https://colab.research.google.com/github/lastinm/Deep-neural-networks-on-Python/blob/main/UrFU_Deep_neural_networks_on_Python_Testing_on_Kaggle.ipynb\" target=\"_parent\"><img src=\"https://colab.research.google.com/assets/colab-badge.svg\" alt=\"Open In Colab\"/></a>"
      ]
    },
    {
      "cell_type": "markdown",
      "source": [
        "#УрФУ. Глубокие нейронные сети на Python. Cоревнование на Kaggle\n"
      ],
      "metadata": {
        "id": "syBGtQO-b6yw"
      }
    },
    {
      "cell_type": "markdown",
      "source": [
        "## Загрузка пакетов и модулей"
      ],
      "metadata": {
        "id": "teJUZsCwdsZu"
      }
    },
    {
      "cell_type": "code",
      "execution_count": 1,
      "metadata": {
        "colab": {
          "base_uri": "https://localhost:8080/"
        },
        "id": "T4rqzLzLbXlo",
        "outputId": "51a92e3c-8e04-4af4-eabc-8a55104fe453"
      },
      "outputs": [
        {
          "output_type": "stream",
          "name": "stdout",
          "text": [
            "Requirement already satisfied: kaggle in /usr/local/lib/python3.10/dist-packages (1.6.12)\n",
            "Requirement already satisfied: six>=1.10 in /usr/local/lib/python3.10/dist-packages (from kaggle) (1.16.0)\n",
            "Requirement already satisfied: certifi>=2023.7.22 in /usr/local/lib/python3.10/dist-packages (from kaggle) (2024.2.2)\n",
            "Requirement already satisfied: python-dateutil in /usr/local/lib/python3.10/dist-packages (from kaggle) (2.8.2)\n",
            "Requirement already satisfied: requests in /usr/local/lib/python3.10/dist-packages (from kaggle) (2.31.0)\n",
            "Requirement already satisfied: tqdm in /usr/local/lib/python3.10/dist-packages (from kaggle) (4.66.4)\n",
            "Requirement already satisfied: python-slugify in /usr/local/lib/python3.10/dist-packages (from kaggle) (8.0.4)\n",
            "Requirement already satisfied: urllib3 in /usr/local/lib/python3.10/dist-packages (from kaggle) (2.0.7)\n",
            "Requirement already satisfied: bleach in /usr/local/lib/python3.10/dist-packages (from kaggle) (6.1.0)\n",
            "Requirement already satisfied: webencodings in /usr/local/lib/python3.10/dist-packages (from bleach->kaggle) (0.5.1)\n",
            "Requirement already satisfied: text-unidecode>=1.3 in /usr/local/lib/python3.10/dist-packages (from python-slugify->kaggle) (1.3)\n",
            "Requirement already satisfied: charset-normalizer<4,>=2 in /usr/local/lib/python3.10/dist-packages (from requests->kaggle) (3.3.2)\n",
            "Requirement already satisfied: idna<4,>=2.5 in /usr/local/lib/python3.10/dist-packages (from requests->kaggle) (3.7)\n",
            "Collecting pytorch-lightning\n",
            "  Downloading pytorch_lightning-2.2.4-py3-none-any.whl (802 kB)\n",
            "\u001b[2K     \u001b[90m━━━━━━━━━━━━━━━━━━━━━━━━━━━━━━━━━━━━━━━━\u001b[0m \u001b[32m802.2/802.2 kB\u001b[0m \u001b[31m8.1 MB/s\u001b[0m eta \u001b[36m0:00:00\u001b[0m\n",
            "\u001b[?25hRequirement already satisfied: numpy>=1.17.2 in /usr/local/lib/python3.10/dist-packages (from pytorch-lightning) (1.25.2)\n",
            "Requirement already satisfied: torch>=1.13.0 in /usr/local/lib/python3.10/dist-packages (from pytorch-lightning) (2.2.1+cu121)\n",
            "Requirement already satisfied: tqdm>=4.57.0 in /usr/local/lib/python3.10/dist-packages (from pytorch-lightning) (4.66.4)\n",
            "Requirement already satisfied: PyYAML>=5.4 in /usr/local/lib/python3.10/dist-packages (from pytorch-lightning) (6.0.1)\n",
            "Requirement already satisfied: fsspec[http]>=2022.5.0 in /usr/local/lib/python3.10/dist-packages (from pytorch-lightning) (2023.6.0)\n",
            "Collecting torchmetrics>=0.7.0 (from pytorch-lightning)\n",
            "  Downloading torchmetrics-1.4.0.post0-py3-none-any.whl (868 kB)\n",
            "\u001b[2K     \u001b[90m━━━━━━━━━━━━━━━━━━━━━━━━━━━━━━━━━━━━━━━━\u001b[0m \u001b[32m868.8/868.8 kB\u001b[0m \u001b[31m34.0 MB/s\u001b[0m eta \u001b[36m0:00:00\u001b[0m\n",
            "\u001b[?25hRequirement already satisfied: packaging>=20.0 in /usr/local/lib/python3.10/dist-packages (from pytorch-lightning) (24.0)\n",
            "Requirement already satisfied: typing-extensions>=4.4.0 in /usr/local/lib/python3.10/dist-packages (from pytorch-lightning) (4.11.0)\n",
            "Collecting lightning-utilities>=0.8.0 (from pytorch-lightning)\n",
            "  Downloading lightning_utilities-0.11.2-py3-none-any.whl (26 kB)\n",
            "Requirement already satisfied: requests in /usr/local/lib/python3.10/dist-packages (from fsspec[http]>=2022.5.0->pytorch-lightning) (2.31.0)\n",
            "Requirement already satisfied: aiohttp!=4.0.0a0,!=4.0.0a1 in /usr/local/lib/python3.10/dist-packages (from fsspec[http]>=2022.5.0->pytorch-lightning) (3.9.5)\n",
            "Requirement already satisfied: setuptools in /usr/local/lib/python3.10/dist-packages (from lightning-utilities>=0.8.0->pytorch-lightning) (67.7.2)\n",
            "Requirement already satisfied: filelock in /usr/local/lib/python3.10/dist-packages (from torch>=1.13.0->pytorch-lightning) (3.14.0)\n",
            "Requirement already satisfied: sympy in /usr/local/lib/python3.10/dist-packages (from torch>=1.13.0->pytorch-lightning) (1.12)\n",
            "Requirement already satisfied: networkx in /usr/local/lib/python3.10/dist-packages (from torch>=1.13.0->pytorch-lightning) (3.3)\n",
            "Requirement already satisfied: jinja2 in /usr/local/lib/python3.10/dist-packages (from torch>=1.13.0->pytorch-lightning) (3.1.4)\n",
            "Collecting nvidia-cuda-nvrtc-cu12==12.1.105 (from torch>=1.13.0->pytorch-lightning)\n",
            "  Using cached nvidia_cuda_nvrtc_cu12-12.1.105-py3-none-manylinux1_x86_64.whl (23.7 MB)\n",
            "Collecting nvidia-cuda-runtime-cu12==12.1.105 (from torch>=1.13.0->pytorch-lightning)\n",
            "  Using cached nvidia_cuda_runtime_cu12-12.1.105-py3-none-manylinux1_x86_64.whl (823 kB)\n",
            "Collecting nvidia-cuda-cupti-cu12==12.1.105 (from torch>=1.13.0->pytorch-lightning)\n",
            "  Using cached nvidia_cuda_cupti_cu12-12.1.105-py3-none-manylinux1_x86_64.whl (14.1 MB)\n",
            "Collecting nvidia-cudnn-cu12==8.9.2.26 (from torch>=1.13.0->pytorch-lightning)\n",
            "  Using cached nvidia_cudnn_cu12-8.9.2.26-py3-none-manylinux1_x86_64.whl (731.7 MB)\n",
            "Collecting nvidia-cublas-cu12==12.1.3.1 (from torch>=1.13.0->pytorch-lightning)\n",
            "  Using cached nvidia_cublas_cu12-12.1.3.1-py3-none-manylinux1_x86_64.whl (410.6 MB)\n",
            "Collecting nvidia-cufft-cu12==11.0.2.54 (from torch>=1.13.0->pytorch-lightning)\n",
            "  Using cached nvidia_cufft_cu12-11.0.2.54-py3-none-manylinux1_x86_64.whl (121.6 MB)\n",
            "Collecting nvidia-curand-cu12==10.3.2.106 (from torch>=1.13.0->pytorch-lightning)\n",
            "  Using cached nvidia_curand_cu12-10.3.2.106-py3-none-manylinux1_x86_64.whl (56.5 MB)\n",
            "Collecting nvidia-cusolver-cu12==11.4.5.107 (from torch>=1.13.0->pytorch-lightning)\n",
            "  Using cached nvidia_cusolver_cu12-11.4.5.107-py3-none-manylinux1_x86_64.whl (124.2 MB)\n",
            "Collecting nvidia-cusparse-cu12==12.1.0.106 (from torch>=1.13.0->pytorch-lightning)\n",
            "  Using cached nvidia_cusparse_cu12-12.1.0.106-py3-none-manylinux1_x86_64.whl (196.0 MB)\n",
            "Collecting nvidia-nccl-cu12==2.19.3 (from torch>=1.13.0->pytorch-lightning)\n",
            "  Using cached nvidia_nccl_cu12-2.19.3-py3-none-manylinux1_x86_64.whl (166.0 MB)\n",
            "Collecting nvidia-nvtx-cu12==12.1.105 (from torch>=1.13.0->pytorch-lightning)\n",
            "  Using cached nvidia_nvtx_cu12-12.1.105-py3-none-manylinux1_x86_64.whl (99 kB)\n",
            "Requirement already satisfied: triton==2.2.0 in /usr/local/lib/python3.10/dist-packages (from torch>=1.13.0->pytorch-lightning) (2.2.0)\n",
            "Collecting nvidia-nvjitlink-cu12 (from nvidia-cusolver-cu12==11.4.5.107->torch>=1.13.0->pytorch-lightning)\n",
            "  Using cached nvidia_nvjitlink_cu12-12.4.127-py3-none-manylinux2014_x86_64.whl (21.1 MB)\n",
            "Requirement already satisfied: aiosignal>=1.1.2 in /usr/local/lib/python3.10/dist-packages (from aiohttp!=4.0.0a0,!=4.0.0a1->fsspec[http]>=2022.5.0->pytorch-lightning) (1.3.1)\n",
            "Requirement already satisfied: attrs>=17.3.0 in /usr/local/lib/python3.10/dist-packages (from aiohttp!=4.0.0a0,!=4.0.0a1->fsspec[http]>=2022.5.0->pytorch-lightning) (23.2.0)\n",
            "Requirement already satisfied: frozenlist>=1.1.1 in /usr/local/lib/python3.10/dist-packages (from aiohttp!=4.0.0a0,!=4.0.0a1->fsspec[http]>=2022.5.0->pytorch-lightning) (1.4.1)\n",
            "Requirement already satisfied: multidict<7.0,>=4.5 in /usr/local/lib/python3.10/dist-packages (from aiohttp!=4.0.0a0,!=4.0.0a1->fsspec[http]>=2022.5.0->pytorch-lightning) (6.0.5)\n",
            "Requirement already satisfied: yarl<2.0,>=1.0 in /usr/local/lib/python3.10/dist-packages (from aiohttp!=4.0.0a0,!=4.0.0a1->fsspec[http]>=2022.5.0->pytorch-lightning) (1.9.4)\n",
            "Requirement already satisfied: async-timeout<5.0,>=4.0 in /usr/local/lib/python3.10/dist-packages (from aiohttp!=4.0.0a0,!=4.0.0a1->fsspec[http]>=2022.5.0->pytorch-lightning) (4.0.3)\n",
            "Requirement already satisfied: MarkupSafe>=2.0 in /usr/local/lib/python3.10/dist-packages (from jinja2->torch>=1.13.0->pytorch-lightning) (2.1.5)\n",
            "Requirement already satisfied: charset-normalizer<4,>=2 in /usr/local/lib/python3.10/dist-packages (from requests->fsspec[http]>=2022.5.0->pytorch-lightning) (3.3.2)\n",
            "Requirement already satisfied: idna<4,>=2.5 in /usr/local/lib/python3.10/dist-packages (from requests->fsspec[http]>=2022.5.0->pytorch-lightning) (3.7)\n",
            "Requirement already satisfied: urllib3<3,>=1.21.1 in /usr/local/lib/python3.10/dist-packages (from requests->fsspec[http]>=2022.5.0->pytorch-lightning) (2.0.7)\n",
            "Requirement already satisfied: certifi>=2017.4.17 in /usr/local/lib/python3.10/dist-packages (from requests->fsspec[http]>=2022.5.0->pytorch-lightning) (2024.2.2)\n",
            "Requirement already satisfied: mpmath>=0.19 in /usr/local/lib/python3.10/dist-packages (from sympy->torch>=1.13.0->pytorch-lightning) (1.3.0)\n",
            "Installing collected packages: nvidia-nvtx-cu12, nvidia-nvjitlink-cu12, nvidia-nccl-cu12, nvidia-curand-cu12, nvidia-cufft-cu12, nvidia-cuda-runtime-cu12, nvidia-cuda-nvrtc-cu12, nvidia-cuda-cupti-cu12, nvidia-cublas-cu12, lightning-utilities, nvidia-cusparse-cu12, nvidia-cudnn-cu12, nvidia-cusolver-cu12, torchmetrics, pytorch-lightning\n",
            "Successfully installed lightning-utilities-0.11.2 nvidia-cublas-cu12-12.1.3.1 nvidia-cuda-cupti-cu12-12.1.105 nvidia-cuda-nvrtc-cu12-12.1.105 nvidia-cuda-runtime-cu12-12.1.105 nvidia-cudnn-cu12-8.9.2.26 nvidia-cufft-cu12-11.0.2.54 nvidia-curand-cu12-10.3.2.106 nvidia-cusolver-cu12-11.4.5.107 nvidia-cusparse-cu12-12.1.0.106 nvidia-nccl-cu12-2.19.3 nvidia-nvjitlink-cu12-12.4.127 nvidia-nvtx-cu12-12.1.105 pytorch-lightning-2.2.4 torchmetrics-1.4.0.post0\n",
            "Collecting pytorch-ignite\n",
            "  Downloading pytorch_ignite-0.5.0.post2-py3-none-any.whl (296 kB)\n",
            "\u001b[2K     \u001b[90m━━━━━━━━━━━━━━━━━━━━━━━━━━━━━━━━━━━━━━━━\u001b[0m \u001b[32m296.7/296.7 kB\u001b[0m \u001b[31m3.4 MB/s\u001b[0m eta \u001b[36m0:00:00\u001b[0m\n",
            "\u001b[?25hRequirement already satisfied: torch<3,>=1.3 in /usr/local/lib/python3.10/dist-packages (from pytorch-ignite) (2.2.1+cu121)\n",
            "Requirement already satisfied: packaging in /usr/local/lib/python3.10/dist-packages (from pytorch-ignite) (24.0)\n",
            "Requirement already satisfied: filelock in /usr/local/lib/python3.10/dist-packages (from torch<3,>=1.3->pytorch-ignite) (3.14.0)\n",
            "Requirement already satisfied: typing-extensions>=4.8.0 in /usr/local/lib/python3.10/dist-packages (from torch<3,>=1.3->pytorch-ignite) (4.11.0)\n",
            "Requirement already satisfied: sympy in /usr/local/lib/python3.10/dist-packages (from torch<3,>=1.3->pytorch-ignite) (1.12)\n",
            "Requirement already satisfied: networkx in /usr/local/lib/python3.10/dist-packages (from torch<3,>=1.3->pytorch-ignite) (3.3)\n",
            "Requirement already satisfied: jinja2 in /usr/local/lib/python3.10/dist-packages (from torch<3,>=1.3->pytorch-ignite) (3.1.4)\n",
            "Requirement already satisfied: fsspec in /usr/local/lib/python3.10/dist-packages (from torch<3,>=1.3->pytorch-ignite) (2023.6.0)\n",
            "Requirement already satisfied: nvidia-cuda-nvrtc-cu12==12.1.105 in /usr/local/lib/python3.10/dist-packages (from torch<3,>=1.3->pytorch-ignite) (12.1.105)\n",
            "Requirement already satisfied: nvidia-cuda-runtime-cu12==12.1.105 in /usr/local/lib/python3.10/dist-packages (from torch<3,>=1.3->pytorch-ignite) (12.1.105)\n",
            "Requirement already satisfied: nvidia-cuda-cupti-cu12==12.1.105 in /usr/local/lib/python3.10/dist-packages (from torch<3,>=1.3->pytorch-ignite) (12.1.105)\n",
            "Requirement already satisfied: nvidia-cudnn-cu12==8.9.2.26 in /usr/local/lib/python3.10/dist-packages (from torch<3,>=1.3->pytorch-ignite) (8.9.2.26)\n",
            "Requirement already satisfied: nvidia-cublas-cu12==12.1.3.1 in /usr/local/lib/python3.10/dist-packages (from torch<3,>=1.3->pytorch-ignite) (12.1.3.1)\n",
            "Requirement already satisfied: nvidia-cufft-cu12==11.0.2.54 in /usr/local/lib/python3.10/dist-packages (from torch<3,>=1.3->pytorch-ignite) (11.0.2.54)\n",
            "Requirement already satisfied: nvidia-curand-cu12==10.3.2.106 in /usr/local/lib/python3.10/dist-packages (from torch<3,>=1.3->pytorch-ignite) (10.3.2.106)\n",
            "Requirement already satisfied: nvidia-cusolver-cu12==11.4.5.107 in /usr/local/lib/python3.10/dist-packages (from torch<3,>=1.3->pytorch-ignite) (11.4.5.107)\n",
            "Requirement already satisfied: nvidia-cusparse-cu12==12.1.0.106 in /usr/local/lib/python3.10/dist-packages (from torch<3,>=1.3->pytorch-ignite) (12.1.0.106)\n",
            "Requirement already satisfied: nvidia-nccl-cu12==2.19.3 in /usr/local/lib/python3.10/dist-packages (from torch<3,>=1.3->pytorch-ignite) (2.19.3)\n",
            "Requirement already satisfied: nvidia-nvtx-cu12==12.1.105 in /usr/local/lib/python3.10/dist-packages (from torch<3,>=1.3->pytorch-ignite) (12.1.105)\n",
            "Requirement already satisfied: triton==2.2.0 in /usr/local/lib/python3.10/dist-packages (from torch<3,>=1.3->pytorch-ignite) (2.2.0)\n",
            "Requirement already satisfied: nvidia-nvjitlink-cu12 in /usr/local/lib/python3.10/dist-packages (from nvidia-cusolver-cu12==11.4.5.107->torch<3,>=1.3->pytorch-ignite) (12.4.127)\n",
            "Requirement already satisfied: MarkupSafe>=2.0 in /usr/local/lib/python3.10/dist-packages (from jinja2->torch<3,>=1.3->pytorch-ignite) (2.1.5)\n",
            "Requirement already satisfied: mpmath>=0.19 in /usr/local/lib/python3.10/dist-packages (from sympy->torch<3,>=1.3->pytorch-ignite) (1.3.0)\n",
            "Installing collected packages: pytorch-ignite\n",
            "Successfully installed pytorch-ignite-0.5.0.post2\n",
            "Collecting onnx\n",
            "  Downloading onnx-1.16.0-cp310-cp310-manylinux_2_17_x86_64.manylinux2014_x86_64.whl (15.9 MB)\n",
            "\u001b[2K     \u001b[90m━━━━━━━━━━━━━━━━━━━━━━━━━━━━━━━━━━━━━━━━\u001b[0m \u001b[32m15.9/15.9 MB\u001b[0m \u001b[31m54.0 MB/s\u001b[0m eta \u001b[36m0:00:00\u001b[0m\n",
            "\u001b[?25hRequirement already satisfied: numpy>=1.20 in /usr/local/lib/python3.10/dist-packages (from onnx) (1.25.2)\n",
            "Requirement already satisfied: protobuf>=3.20.2 in /usr/local/lib/python3.10/dist-packages (from onnx) (3.20.3)\n",
            "Installing collected packages: onnx\n",
            "Successfully installed onnx-1.16.0\n",
            "Collecting keract\n",
            "  Downloading keract-4.5.1-py3-none-any.whl (12 kB)\n",
            "Installing collected packages: keract\n",
            "Successfully installed keract-4.5.1\n"
          ]
        }
      ],
      "source": [
        "!pip install kaggle\n",
        "!pip install -q opendatasets\n",
        "!pip install pytorch-lightning\n",
        "!pip install pytorch-ignite\n",
        "!pip install onnx\n",
        "!pip install keract"
      ]
    },
    {
      "cell_type": "code",
      "source": [
        "!cat /etc/*release*"
      ],
      "metadata": {
        "colab": {
          "base_uri": "https://localhost:8080/"
        },
        "id": "LvnGnr5SeZnF",
        "outputId": "38e7eb82-7cf0-4ac8-f79d-5f855163db56"
      },
      "execution_count": 2,
      "outputs": [
        {
          "output_type": "stream",
          "name": "stdout",
          "text": [
            "DISTRIB_ID=Ubuntu\n",
            "DISTRIB_RELEASE=22.04\n",
            "DISTRIB_CODENAME=jammy\n",
            "DISTRIB_DESCRIPTION=\"Ubuntu 22.04.3 LTS\"\n",
            "PRETTY_NAME=\"Ubuntu 22.04.3 LTS\"\n",
            "NAME=\"Ubuntu\"\n",
            "VERSION_ID=\"22.04\"\n",
            "VERSION=\"22.04.3 LTS (Jammy Jellyfish)\"\n",
            "VERSION_CODENAME=jammy\n",
            "ID=ubuntu\n",
            "ID_LIKE=debian\n",
            "HOME_URL=\"https://www.ubuntu.com/\"\n",
            "SUPPORT_URL=\"https://help.ubuntu.com/\"\n",
            "BUG_REPORT_URL=\"https://bugs.launchpad.net/ubuntu/\"\n",
            "PRIVACY_POLICY_URL=\"https://www.ubuntu.com/legal/terms-and-policies/privacy-policy\"\n",
            "UBUNTU_CODENAME=jammy\n"
          ]
        }
      ]
    },
    {
      "cell_type": "code",
      "source": [
        "!nvidia-smi\n",
        "!nvcc --version"
      ],
      "metadata": {
        "colab": {
          "base_uri": "https://localhost:8080/"
        },
        "id": "izqiOfw-eeEd",
        "outputId": "8a6bf431-4290-4aa1-d7c7-2b6b2f06e529"
      },
      "execution_count": 3,
      "outputs": [
        {
          "output_type": "stream",
          "name": "stdout",
          "text": [
            "Wed May 15 18:31:18 2024       \n",
            "+---------------------------------------------------------------------------------------+\n",
            "| NVIDIA-SMI 535.104.05             Driver Version: 535.104.05   CUDA Version: 12.2     |\n",
            "|-----------------------------------------+----------------------+----------------------+\n",
            "| GPU  Name                 Persistence-M | Bus-Id        Disp.A | Volatile Uncorr. ECC |\n",
            "| Fan  Temp   Perf          Pwr:Usage/Cap |         Memory-Usage | GPU-Util  Compute M. |\n",
            "|                                         |                      |               MIG M. |\n",
            "|=========================================+======================+======================|\n",
            "|   0  Tesla T4                       Off | 00000000:00:04.0 Off |                    0 |\n",
            "| N/A   34C    P8               9W /  70W |      0MiB / 15360MiB |      0%      Default |\n",
            "|                                         |                      |                  N/A |\n",
            "+-----------------------------------------+----------------------+----------------------+\n",
            "                                                                                         \n",
            "+---------------------------------------------------------------------------------------+\n",
            "| Processes:                                                                            |\n",
            "|  GPU   GI   CI        PID   Type   Process name                            GPU Memory |\n",
            "|        ID   ID                                                             Usage      |\n",
            "|=======================================================================================|\n",
            "|  No running processes found                                                           |\n",
            "+---------------------------------------------------------------------------------------+\n",
            "nvcc: NVIDIA (R) Cuda compiler driver\n",
            "Copyright (c) 2005-2023 NVIDIA Corporation\n",
            "Built on Tue_Aug_15_22:02:13_PDT_2023\n",
            "Cuda compilation tools, release 12.2, V12.2.140\n",
            "Build cuda_12.2.r12.2/compiler.33191640_0\n"
          ]
        }
      ]
    },
    {
      "cell_type": "markdown",
      "source": [
        "Импорт модулей"
      ],
      "metadata": {
        "id": "kHjr176sgRbd"
      }
    },
    {
      "cell_type": "code",
      "source": [
        "import tensorflow\n",
        "from tensorflow.keras.models import Sequential\n",
        "from tensorflow.keras.layers import Dense, Dropout, Flatten, Conv2D, MaxPooling2D\n",
        "from tensorflow.keras.utils import plot_model\n",
        "from tensorflow.keras import backend as K\n",
        "from tensorflow.keras import activations\n",
        "from keract import get_activations, display_activations\n",
        "\n",
        "import numpy as np\n",
        "import pandas as pd\n",
        "\n",
        "from torchvision.transforms import Compose, Normalize, ToTensor\n",
        "\n",
        "from tqdm import tqdm  # Библиотека для отрисовки progress bar.\n",
        "\n",
        "from ignite.engine import Events, create_supervised_evaluator, create_supervised_trainer\n",
        "     # Events - перечисление различных событий из жизненного цикла модели.\n",
        "     # create_supervised_evaluator - валидатор для обучения с учителем.\n",
        "     # create_supervised_trainer  - тренер для обучения с учителем.\n",
        "from ignite.metrics import Accuracy, Loss\n",
        "     # Это просто удобный логгер, которым можно пользоваться, а можно и не пользоваться.\n",
        "\n",
        "from tensorflow.keras.layers import BatchNormalization\n",
        "\n",
        "from google.colab import files\n",
        "\n",
        "import opendatasets as od"
      ],
      "metadata": {
        "id": "SJZ56YHzgKc_"
      },
      "execution_count": 4,
      "outputs": []
    },
    {
      "cell_type": "markdown",
      "source": [
        "## Загружаем DataSet с Kaggle соревнование DL-URFU-2024"
      ],
      "metadata": {
        "id": "eVorWaqeg0ur"
      }
    },
    {
      "cell_type": "code",
      "source": [
        "uploaded = files.upload() #просто запускаем и выбираем файл  API токена в проводнике\n",
        "\n",
        "#↓ строка которая активирует наш API токен\n",
        "!mkdir -p ~/.kaggle/ && mv kaggle.json ~/.kaggle/ && chmod 600 ~/.kaggle/kaggle.json"
      ],
      "metadata": {
        "colab": {
          "base_uri": "https://localhost:8080/",
          "height": 73
        },
        "id": "9wGYIJEJg89k",
        "outputId": "93c2c6c1-16d3-46a1-eeec-89cc8abf312c"
      },
      "execution_count": 7,
      "outputs": [
        {
          "output_type": "display_data",
          "data": {
            "text/plain": [
              "<IPython.core.display.HTML object>"
            ],
            "text/html": [
              "\n",
              "     <input type=\"file\" id=\"files-7b8410be-f045-4eeb-9cb7-6e14f2367ee1\" name=\"files[]\" multiple disabled\n",
              "        style=\"border:none\" />\n",
              "     <output id=\"result-7b8410be-f045-4eeb-9cb7-6e14f2367ee1\">\n",
              "      Upload widget is only available when the cell has been executed in the\n",
              "      current browser session. Please rerun this cell to enable.\n",
              "      </output>\n",
              "      <script>// Copyright 2017 Google LLC\n",
              "//\n",
              "// Licensed under the Apache License, Version 2.0 (the \"License\");\n",
              "// you may not use this file except in compliance with the License.\n",
              "// You may obtain a copy of the License at\n",
              "//\n",
              "//      http://www.apache.org/licenses/LICENSE-2.0\n",
              "//\n",
              "// Unless required by applicable law or agreed to in writing, software\n",
              "// distributed under the License is distributed on an \"AS IS\" BASIS,\n",
              "// WITHOUT WARRANTIES OR CONDITIONS OF ANY KIND, either express or implied.\n",
              "// See the License for the specific language governing permissions and\n",
              "// limitations under the License.\n",
              "\n",
              "/**\n",
              " * @fileoverview Helpers for google.colab Python module.\n",
              " */\n",
              "(function(scope) {\n",
              "function span(text, styleAttributes = {}) {\n",
              "  const element = document.createElement('span');\n",
              "  element.textContent = text;\n",
              "  for (const key of Object.keys(styleAttributes)) {\n",
              "    element.style[key] = styleAttributes[key];\n",
              "  }\n",
              "  return element;\n",
              "}\n",
              "\n",
              "// Max number of bytes which will be uploaded at a time.\n",
              "const MAX_PAYLOAD_SIZE = 100 * 1024;\n",
              "\n",
              "function _uploadFiles(inputId, outputId) {\n",
              "  const steps = uploadFilesStep(inputId, outputId);\n",
              "  const outputElement = document.getElementById(outputId);\n",
              "  // Cache steps on the outputElement to make it available for the next call\n",
              "  // to uploadFilesContinue from Python.\n",
              "  outputElement.steps = steps;\n",
              "\n",
              "  return _uploadFilesContinue(outputId);\n",
              "}\n",
              "\n",
              "// This is roughly an async generator (not supported in the browser yet),\n",
              "// where there are multiple asynchronous steps and the Python side is going\n",
              "// to poll for completion of each step.\n",
              "// This uses a Promise to block the python side on completion of each step,\n",
              "// then passes the result of the previous step as the input to the next step.\n",
              "function _uploadFilesContinue(outputId) {\n",
              "  const outputElement = document.getElementById(outputId);\n",
              "  const steps = outputElement.steps;\n",
              "\n",
              "  const next = steps.next(outputElement.lastPromiseValue);\n",
              "  return Promise.resolve(next.value.promise).then((value) => {\n",
              "    // Cache the last promise value to make it available to the next\n",
              "    // step of the generator.\n",
              "    outputElement.lastPromiseValue = value;\n",
              "    return next.value.response;\n",
              "  });\n",
              "}\n",
              "\n",
              "/**\n",
              " * Generator function which is called between each async step of the upload\n",
              " * process.\n",
              " * @param {string} inputId Element ID of the input file picker element.\n",
              " * @param {string} outputId Element ID of the output display.\n",
              " * @return {!Iterable<!Object>} Iterable of next steps.\n",
              " */\n",
              "function* uploadFilesStep(inputId, outputId) {\n",
              "  const inputElement = document.getElementById(inputId);\n",
              "  inputElement.disabled = false;\n",
              "\n",
              "  const outputElement = document.getElementById(outputId);\n",
              "  outputElement.innerHTML = '';\n",
              "\n",
              "  const pickedPromise = new Promise((resolve) => {\n",
              "    inputElement.addEventListener('change', (e) => {\n",
              "      resolve(e.target.files);\n",
              "    });\n",
              "  });\n",
              "\n",
              "  const cancel = document.createElement('button');\n",
              "  inputElement.parentElement.appendChild(cancel);\n",
              "  cancel.textContent = 'Cancel upload';\n",
              "  const cancelPromise = new Promise((resolve) => {\n",
              "    cancel.onclick = () => {\n",
              "      resolve(null);\n",
              "    };\n",
              "  });\n",
              "\n",
              "  // Wait for the user to pick the files.\n",
              "  const files = yield {\n",
              "    promise: Promise.race([pickedPromise, cancelPromise]),\n",
              "    response: {\n",
              "      action: 'starting',\n",
              "    }\n",
              "  };\n",
              "\n",
              "  cancel.remove();\n",
              "\n",
              "  // Disable the input element since further picks are not allowed.\n",
              "  inputElement.disabled = true;\n",
              "\n",
              "  if (!files) {\n",
              "    return {\n",
              "      response: {\n",
              "        action: 'complete',\n",
              "      }\n",
              "    };\n",
              "  }\n",
              "\n",
              "  for (const file of files) {\n",
              "    const li = document.createElement('li');\n",
              "    li.append(span(file.name, {fontWeight: 'bold'}));\n",
              "    li.append(span(\n",
              "        `(${file.type || 'n/a'}) - ${file.size} bytes, ` +\n",
              "        `last modified: ${\n",
              "            file.lastModifiedDate ? file.lastModifiedDate.toLocaleDateString() :\n",
              "                                    'n/a'} - `));\n",
              "    const percent = span('0% done');\n",
              "    li.appendChild(percent);\n",
              "\n",
              "    outputElement.appendChild(li);\n",
              "\n",
              "    const fileDataPromise = new Promise((resolve) => {\n",
              "      const reader = new FileReader();\n",
              "      reader.onload = (e) => {\n",
              "        resolve(e.target.result);\n",
              "      };\n",
              "      reader.readAsArrayBuffer(file);\n",
              "    });\n",
              "    // Wait for the data to be ready.\n",
              "    let fileData = yield {\n",
              "      promise: fileDataPromise,\n",
              "      response: {\n",
              "        action: 'continue',\n",
              "      }\n",
              "    };\n",
              "\n",
              "    // Use a chunked sending to avoid message size limits. See b/62115660.\n",
              "    let position = 0;\n",
              "    do {\n",
              "      const length = Math.min(fileData.byteLength - position, MAX_PAYLOAD_SIZE);\n",
              "      const chunk = new Uint8Array(fileData, position, length);\n",
              "      position += length;\n",
              "\n",
              "      const base64 = btoa(String.fromCharCode.apply(null, chunk));\n",
              "      yield {\n",
              "        response: {\n",
              "          action: 'append',\n",
              "          file: file.name,\n",
              "          data: base64,\n",
              "        },\n",
              "      };\n",
              "\n",
              "      let percentDone = fileData.byteLength === 0 ?\n",
              "          100 :\n",
              "          Math.round((position / fileData.byteLength) * 100);\n",
              "      percent.textContent = `${percentDone}% done`;\n",
              "\n",
              "    } while (position < fileData.byteLength);\n",
              "  }\n",
              "\n",
              "  // All done.\n",
              "  yield {\n",
              "    response: {\n",
              "      action: 'complete',\n",
              "    }\n",
              "  };\n",
              "}\n",
              "\n",
              "scope.google = scope.google || {};\n",
              "scope.google.colab = scope.google.colab || {};\n",
              "scope.google.colab._files = {\n",
              "  _uploadFiles,\n",
              "  _uploadFilesContinue,\n",
              "};\n",
              "})(self);\n",
              "</script> "
            ]
          },
          "metadata": {}
        },
        {
          "output_type": "stream",
          "name": "stdout",
          "text": [
            "Saving kaggle.json to kaggle.json\n"
          ]
        }
      ]
    },
    {
      "cell_type": "code",
      "source": [
        "od.download(\"https://www.kaggle.com/competitions/copy-of-dl-urfu-2024/data\")"
      ],
      "metadata": {
        "colab": {
          "base_uri": "https://localhost:8080/"
        },
        "id": "WC1N08Q6ikCk",
        "outputId": "edf826bb-a517-49f1-a953-3d8b1b1a2b1e"
      },
      "execution_count": 9,
      "outputs": [
        {
          "output_type": "stream",
          "name": "stdout",
          "text": [
            "Please provide your Kaggle credentials to download this dataset. Learn more: http://bit.ly/kaggle-creds\n",
            "Your Kaggle username: maximlastin\n",
            "Your Kaggle Key: ··········\n",
            "Downloading copy-of-dl-urfu-2024.zip to ./copy-of-dl-urfu-2024\n"
          ]
        },
        {
          "output_type": "stream",
          "name": "stderr",
          "text": [
            "100%|██████████| 68.8M/68.8M [00:01<00:00, 71.1MB/s]\n"
          ]
        },
        {
          "output_type": "stream",
          "name": "stdout",
          "text": [
            "\n",
            "Extracting archive ./copy-of-dl-urfu-2024/copy-of-dl-urfu-2024.zip to ./copy-of-dl-urfu-2024\n"
          ]
        }
      ]
    },
    {
      "cell_type": "markdown",
      "source": [
        "## Подготавливаем данные"
      ],
      "metadata": {
        "id": "UncXY_tgkmZY"
      }
    },
    {
      "cell_type": "code",
      "source": [
        "input_train = pd.read_csv('/content/copy-of-dl-urfu-2024/fashion-mnist_train.csv')\n",
        "input_test = pd.read_csv('/content/copy-of-dl-urfu-2024/fashion-mnist_test.csv')\n",
        "submission = pd.read_csv('/content/copy-of-dl-urfu-2024/sample_submission.csv')"
      ],
      "metadata": {
        "id": "R52siomSkAvS"
      },
      "execution_count": 11,
      "outputs": []
    },
    {
      "cell_type": "markdown",
      "source": [
        "Размерности тренировочных и тестовых данных"
      ],
      "metadata": {
        "id": "PtsSVDl8kTKK"
      }
    },
    {
      "cell_type": "code",
      "source": [
        "input_train.shape"
      ],
      "metadata": {
        "colab": {
          "base_uri": "https://localhost:8080/"
        },
        "id": "jKvabyHkkD6l",
        "outputId": "5e0c0934-99ec-4fe4-dbb1-fae358908d4b"
      },
      "execution_count": 12,
      "outputs": [
        {
          "output_type": "execute_result",
          "data": {
            "text/plain": [
              "(60000, 785)"
            ]
          },
          "metadata": {},
          "execution_count": 12
        }
      ]
    },
    {
      "cell_type": "code",
      "source": [
        "input_test.shape"
      ],
      "metadata": {
        "colab": {
          "base_uri": "https://localhost:8080/"
        },
        "id": "Gh1gVb4ekNfL",
        "outputId": "7f7a4ca3-4380-4752-83e9-6860efcafdb7"
      },
      "execution_count": 13,
      "outputs": [
        {
          "output_type": "execute_result",
          "data": {
            "text/plain": [
              "(10000, 785)"
            ]
          },
          "metadata": {},
          "execution_count": 13
        }
      ]
    },
    {
      "cell_type": "code",
      "source": [
        "# Извлечение пиксельных данных, исключая 'label' и 'id'\n",
        "X_train = input_train.drop(['label'], axis=1).values\n",
        "X_test = input_test.drop(['label'], axis=1).values\n",
        "\n",
        "# Получение меток\n",
        "y_train = input_train['label'].values\n",
        "y_test = input_test['label'].values"
      ],
      "metadata": {
        "id": "-qx3RFD6kYQ-"
      },
      "execution_count": 14,
      "outputs": []
    },
    {
      "cell_type": "code",
      "source": [
        "# Различные константы\n",
        "IMG_WIDTH, IMG_HEIGHT = 28, 28\n",
        "BATCH_SIZE = 250\n",
        "EPOCHS = 8\n",
        "NUM_CLASSES = 10\n",
        "VALIDATION_SPLIT = 0.2\n",
        "VERBOSITY = 1"
      ],
      "metadata": {
        "id": "EjEPrh-nj9nr"
      },
      "execution_count": 10,
      "outputs": []
    },
    {
      "cell_type": "code",
      "source": [
        "# Подготавливаем данные.\n",
        "input_train = X_train.reshape(input_train.shape[0], IMG_WIDTH, IMG_HEIGHT, 1)\n",
        "input_test = X_test.reshape(input_test.shape[0], IMG_WIDTH, IMG_HEIGHT, 1)\n",
        "input_shape = (IMG_WIDTH, IMG_HEIGHT, 1)\n",
        "\n",
        "# Нормализуем данные (0-255 -> 0-1.0).\n",
        "# В Python 3 операнды всегда приводятся к числам с плавающей точкой. Для целочисленного деления введён отдельный оператор // .\n",
        "\n",
        "input_train = input_train / 255\n",
        "input_test = input_test / 255\n",
        "\n",
        "target_train = tensorflow.keras.utils.to_categorical(y_train, NUM_CLASSES)\n",
        "target_test = tensorflow.keras.utils.to_categorical(y_test, NUM_CLASSES)"
      ],
      "metadata": {
        "id": "9j-FYU66k35M"
      },
      "execution_count": 16,
      "outputs": []
    },
    {
      "cell_type": "code",
      "source": [
        "input_train.shape"
      ],
      "metadata": {
        "colab": {
          "base_uri": "https://localhost:8080/"
        },
        "id": "WBoeuTIuk_F1",
        "outputId": "275b0ea2-f3bc-429d-bab1-dd5e46388d52"
      },
      "execution_count": 17,
      "outputs": [
        {
          "output_type": "execute_result",
          "data": {
            "text/plain": [
              "(60000, 28, 28, 1)"
            ]
          },
          "metadata": {},
          "execution_count": 17
        }
      ]
    },
    {
      "cell_type": "markdown",
      "source": [
        "## Создаём модель"
      ],
      "metadata": {
        "id": "avNwlj8Eld-u"
      }
    },
    {
      "cell_type": "code",
      "source": [
        "model = Sequential()\n",
        "model.add(Conv2D(16, kernel_size=(3, 3), activation='relu', input_shape=input_shape, padding='same'))\n",
        "model.add(BatchNormalization())\n",
        "model.add(Conv2D(32, kernel_size=(3, 3), activation='relu', padding='same'))\n",
        "model.add(MaxPooling2D(pool_size=(2, 2)))\n",
        "model.add(Dropout(0.25))\n",
        "model.add(Conv2D(32, kernel_size=(3, 3), activation='relu', padding='same'))\n",
        "model.add(Flatten())\n",
        "model.add(Dense(256, activation='relu'))\n",
        "model.add(Dense(NUM_CLASSES, activation='softmax'))"
      ],
      "metadata": {
        "id": "qOM4tATTlbrB"
      },
      "execution_count": 18,
      "outputs": []
    },
    {
      "cell_type": "code",
      "source": [
        "# Визуализируем модель.\n",
        "plot_model(model, show_shapes = True)"
      ],
      "metadata": {
        "colab": {
          "base_uri": "https://localhost:8080/",
          "height": 1000
        },
        "id": "KmnkrrATlpDi",
        "outputId": "9e64bbc9-f227-438e-8810-5c3d2c1f5b75"
      },
      "execution_count": 19,
      "outputs": [
        {
          "output_type": "execute_result",
          "data": {
            "image/png": "[encoded data removed]",
            "text/plain": [
              "<IPython.core.display.Image object>"
            ]
          },
          "metadata": {},
          "execution_count": 19
        }
      ]
    },
    {
      "cell_type": "code",
      "source": [
        "# Обучаем модель\n",
        "model.compile(\n",
        "    loss=tensorflow.keras.losses.categorical_crossentropy,\n",
        "    optimizer=tensorflow.keras.optimizers.Adam(learning_rate=0.001),\n",
        "    metrics=['accuracy']\n",
        ")\n",
        "\n",
        "model.fit(\n",
        "    input_train,\n",
        "    target_train,\n",
        "    batch_size=BATCH_SIZE,\n",
        "    epochs=EPOCHS,\n",
        "    verbose=VERBOSITY,\n",
        "    validation_split=VALIDATION_SPLIT\n",
        ")\n",
        "\n",
        "# Сохраняем модель\n",
        "model.save(\"cnn_mnist_classification\")"
      ],
      "metadata": {
        "colab": {
          "base_uri": "https://localhost:8080/"
        },
        "id": "2TWl6gIblv2D",
        "outputId": "3cae70be-65c1-4c87-9f44-2bfbdc134a29"
      },
      "execution_count": 20,
      "outputs": [
        {
          "output_type": "stream",
          "name": "stdout",
          "text": [
            "Epoch 1/8\n",
            "192/192 [==============================] - 9s 14ms/step - loss: 0.4871 - accuracy: 0.8319 - val_loss: 1.4458 - val_accuracy: 0.8902\n",
            "Epoch 2/8\n",
            "192/192 [==============================] - 2s 12ms/step - loss: 0.2763 - accuracy: 0.8990 - val_loss: 0.6748 - val_accuracy: 0.8999\n",
            "Epoch 3/8\n",
            "192/192 [==============================] - 2s 12ms/step - loss: 0.2309 - accuracy: 0.9141 - val_loss: 0.2753 - val_accuracy: 0.9062\n",
            "Epoch 4/8\n",
            "192/192 [==============================] - 3s 13ms/step - loss: 0.1961 - accuracy: 0.9278 - val_loss: 0.2226 - val_accuracy: 0.9222\n",
            "Epoch 5/8\n",
            "192/192 [==============================] - 3s 14ms/step - loss: 0.1717 - accuracy: 0.9363 - val_loss: 0.2376 - val_accuracy: 0.9122\n",
            "Epoch 6/8\n",
            "192/192 [==============================] - 2s 12ms/step - loss: 0.1458 - accuracy: 0.9461 - val_loss: 0.2252 - val_accuracy: 0.9226\n",
            "Epoch 7/8\n",
            "192/192 [==============================] - 2s 12ms/step - loss: 0.1278 - accuracy: 0.9525 - val_loss: 0.2233 - val_accuracy: 0.9218\n",
            "Epoch 8/8\n",
            "192/192 [==============================] - 2s 12ms/step - loss: 0.1126 - accuracy: 0.9579 - val_loss: 0.2229 - val_accuracy: 0.9252\n"
          ]
        }
      ]
    },
    {
      "cell_type": "code",
      "source": [
        "predictions = model.predict(input_test)\n",
        "predicted_classes = predictions.argmax(axis=1)"
      ],
      "metadata": {
        "colab": {
          "base_uri": "https://localhost:8080/"
        },
        "id": "YksuqEj1l7In",
        "outputId": "38ec786c-df8b-4c5a-fa71-3ec770f1a510"
      },
      "execution_count": 21,
      "outputs": [
        {
          "output_type": "stream",
          "name": "stdout",
          "text": [
            "313/313 [==============================] - 1s 3ms/step\n"
          ]
        }
      ]
    },
    {
      "cell_type": "code",
      "source": [
        "# Сохранение предсказанных меток в колонке 'Category'\n",
        "submission['Category'] = predicted_classes\n",
        "\n",
        "# Сохранение результатов в CSV\n",
        "submission.to_csv('/content/final_submission.csv', index=False)"
      ],
      "metadata": {
        "id": "DWoGO1-zl-K9"
      },
      "execution_count": 23,
      "outputs": []
    },
    {
      "cell_type": "code",
      "source": [
        "!kaggle competitions submit -c copy-of-dl-urfu-2024 -f final_submission.csv -m \"lastin maksim a.\""
      ],
      "metadata": {
        "colab": {
          "base_uri": "https://localhost:8080/"
        },
        "id": "lV4uuQigmuBc",
        "outputId": "eb273039-73c6-4926-8292-9758a9070c80"
      },
      "execution_count": 24,
      "outputs": [
        {
          "output_type": "stream",
          "name": "stdout",
          "text": [
            "100% 67.3k/67.3k [00:00<00:00, 103kB/s]\n",
            "Successfully submitted to [DL-URFU-2024] Построение классифика..."
          ]
        }
      ]
    },
    {
      "cell_type": "markdown",
      "source": [
        "![image.png](data:image/png;base64,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)"
      ],
      "metadata": {
        "id": "i0bpOzMZoKl6"
      }
    }
  ]
}